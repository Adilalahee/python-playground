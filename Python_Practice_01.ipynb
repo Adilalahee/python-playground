{
  "cells": [
    {
      "cell_type": "markdown",
      "metadata": {
        "id": "view-in-github",
        "colab_type": "text"
      },
      "source": [
        "<a href=\"https://colab.research.google.com/github/Adilalahee/python-playground/blob/main/Python_Practice_01.ipynb\" target=\"_parent\"><img src=\"https://colab.research.google.com/assets/colab-badge.svg\" alt=\"Open In Colab\"/></a>"
      ]
    },
    {
      "cell_type": "code",
      "execution_count": null,
      "metadata": {
        "colab": {
          "base_uri": "https://localhost:8080/"
        },
        "id": "mDeugy5f7jpV",
        "outputId": "c6a9c811-ff4c-49c1-c268-4e6e69a65f51"
      },
      "outputs": [
        {
          "name": "stdout",
          "output_type": "stream",
          "text": [
            "These area lines\n"
          ]
        }
      ],
      "source": [
        "x=1\n",
        "if x>0:\n",
        "  print(\"These area lines\")\n"
      ]
    },
    {
      "cell_type": "code",
      "execution_count": null,
      "metadata": {
        "colab": {
          "base_uri": "https://localhost:8080/"
        },
        "id": "DoXFDLlpDJ_j",
        "outputId": "a997fd1a-63ef-47be-ccc3-0488f828f2cc"
      },
      "outputs": [
        {
          "name": "stdout",
          "output_type": "stream",
          "text": [
            "110\n"
          ]
        }
      ],
      "source": [
        "x=100\n",
        "if x>50:\n",
        "  print (x+10)"
      ]
    },
    {
      "cell_type": "code",
      "execution_count": null,
      "metadata": {
        "colab": {
          "base_uri": "https://localhost:8080/"
        },
        "id": "lf82JF-MDZwc",
        "outputId": "47f3c833-df3b-4e76-8e72-eb6e8fd42b35"
      },
      "outputs": [
        {
          "name": "stdout",
          "output_type": "stream",
          "text": [
            "8\n",
            "hi\n"
          ]
        }
      ],
      "source": [
        "a=1\n",
        "b=2\n",
        "c=1\n",
        "d=4\n",
        "print (a+b+c+d)\n",
        "print(\"hi\")"
      ]
    },
    {
      "cell_type": "code",
      "execution_count": null,
      "metadata": {
        "colab": {
          "base_uri": "https://localhost:8080/"
        },
        "id": "n2eS87LTGLwU",
        "outputId": "8ccfc810-e43a-4a62-f765-41b3393518af"
      },
      "outputs": [
        {
          "name": "stdout",
          "output_type": "stream",
          "text": [
            "nothing\n"
          ]
        }
      ],
      "source": [
        "x=4\n",
        "if x>5:\n",
        "  print(\"greater than\")\n",
        "elif x<2:\n",
        "  print(\"It is less than\")\n",
        "else:\n",
        "  print(\"nothing\")"
      ]
    },
    {
      "cell_type": "code",
      "execution_count": null,
      "metadata": {
        "colab": {
          "base_uri": "https://localhost:8080/"
        },
        "id": "_CC2QI6AMxXS",
        "outputId": "ab220d54-a949-46e6-fa0f-781beb25e1bc"
      },
      "outputs": [
        {
          "name": "stdout",
          "output_type": "stream",
          "text": [
            "The roll no ofadilisfour\n"
          ]
        }
      ],
      "source": [
        "x='adil'\n",
        "y='four'\n",
        "print('The roll no of'+x+'is'+y)"
      ]
    },
    {
      "cell_type": "code",
      "execution_count": null,
      "metadata": {
        "colab": {
          "base_uri": "https://localhost:8080/"
        },
        "id": "-T4JzG_OOAmq",
        "outputId": "9418976a-78a6-4db5-c9cb-570650026b06"
      },
      "outputs": [
        {
          "name": "stdout",
          "output_type": "stream",
          "text": [
            "this is five\n"
          ]
        }
      ],
      "source": [
        "x='five'\n",
        "y='five'\n",
        "print('this is %s'%x)"
      ]
    },
    {
      "cell_type": "code",
      "execution_count": null,
      "metadata": {
        "colab": {
          "base_uri": "https://localhost:8080/"
        },
        "id": "xl2qKj3mU2X6",
        "outputId": "d6db5fd3-d8ed-4f53-d742-c8c0a743660c"
      },
      "outputs": [
        {
          "name": "stdout",
          "output_type": "stream",
          "text": [
            "4\n",
            "4\n"
          ]
        }
      ],
      "source": [
        "x=input()\n",
        "print(x)"
      ]
    },
    {
      "cell_type": "code",
      "execution_count": null,
      "metadata": {
        "colab": {
          "base_uri": "https://localhost:8080/"
        },
        "id": "qv3pa9NEVc65",
        "outputId": "4ada33b2-1f81-420e-ac5c-d86dfd891980"
      },
      "outputs": [
        {
          "name": "stdout",
          "output_type": "stream",
          "text": [
            "4\n",
            "5\n"
          ]
        }
      ],
      "source": [
        "x,y=4,5\n",
        "print(x)\n",
        "print(y)"
      ]
    },
    {
      "cell_type": "code",
      "execution_count": null,
      "metadata": {
        "colab": {
          "base_uri": "https://localhost:8080/"
        },
        "id": "F49YMkSgVqwW",
        "outputId": "329468a3-b510-4f6c-d91c-f198e84e8cfe"
      },
      "outputs": [
        {
          "name": "stdout",
          "output_type": "stream",
          "text": [
            "15\n",
            "5\n"
          ]
        }
      ],
      "source": [
        "x=5\n",
        "y=10\n",
        "print (x+y)\n",
        "x,y=y,x\n",
        "print(y)"
      ]
    },
    {
      "cell_type": "code",
      "execution_count": null,
      "metadata": {
        "colab": {
          "base_uri": "https://localhost:8080/"
        },
        "id": "yh3eCOgVWrMH",
        "outputId": "4c2f44aa-7814-40ab-9036-118b404038ab"
      },
      "outputs": [
        {
          "name": "stdout",
          "output_type": "stream",
          "text": [
            "False\n"
          ]
        }
      ],
      "source": [
        "x=\"python tutorial\"\n",
        "print(\"python1\" in x)"
      ]
    },
    {
      "cell_type": "code",
      "execution_count": null,
      "metadata": {
        "colab": {
          "base_uri": "https://localhost:8080/"
        },
        "id": "2UFYw9AJYUh5",
        "outputId": "ccc9c4a1-4218-4b4b-a685-c2808f113180"
      },
      "outputs": [
        {
          "data": {
            "text/plain": [
              "float"
            ]
          },
          "execution_count": 26,
          "metadata": {},
          "output_type": "execute_result"
        }
      ],
      "source": [
        "x=5.98\n",
        "type(x)"
      ]
    },
    {
      "cell_type": "code",
      "execution_count": null,
      "metadata": {
        "colab": {
          "base_uri": "https://localhost:8080/"
        },
        "id": "Z_KWyV4UYjP3",
        "outputId": "847cdf4d-9450-40e6-b23e-c938f9d538d5"
      },
      "outputs": [
        {
          "name": "stdout",
          "output_type": "stream",
          "text": [
            "enter your age5\n",
            "You are teen\n"
          ]
        }
      ],
      "source": [
        "x=int(input(\"enter your age\"))\n",
        "if x>15:\n",
        "  print(\"You are too small\")\n",
        "elif x<10:\n",
        "  print(\"You are teen\")\n",
        "else:\n",
        "  print(\"Junior\")"
      ]
    },
    {
      "cell_type": "code",
      "execution_count": null,
      "metadata": {
        "colab": {
          "base_uri": "https://localhost:8080/"
        },
        "id": "gj1AqgW1cBZx",
        "outputId": "15891116-3cf1-4d19-aa29-b186532d3988"
      },
      "outputs": [
        {
          "name": "stdout",
          "output_type": "stream",
          "text": [
            "whats your age :40\n",
            "hello there\n"
          ]
        }
      ],
      "source": [
        "x=int(input(\"whats your age :\"))\n",
        "if x>30 and x<33:\n",
        "  if x<25 and x>27:\n",
        "    print(\"Come on, you will be in\")\n",
        "  else:\n",
        "    print(\"You will be fired\")\n",
        "else:\n",
        "  print(\"hello there\")"
      ]
    },
    {
      "cell_type": "code",
      "execution_count": null,
      "metadata": {
        "colab": {
          "base_uri": "https://localhost:8080/"
        },
        "id": "B0bCYt7xc7zB",
        "outputId": "a087b661-a0ec-4267-9fad-24e70549b979"
      },
      "outputs": [
        {
          "name": "stdout",
          "output_type": "stream",
          "text": [
            "Enter you number63\n",
            "B\n"
          ]
        }
      ],
      "source": [
        "x=int(input(\"Enter you number\"))\n",
        "if x>80:\n",
        "  print(\"A+\")\n",
        "elif x<80 and x>70:\n",
        "  print(\"A\")\n",
        "elif x<70 and x>60:\n",
        "  print(\"B\")\n",
        "else:\n",
        "  print(\"You failed\")"
      ]
    },
    {
      "cell_type": "code",
      "execution_count": null,
      "metadata": {
        "colab": {
          "base_uri": "https://localhost:8080/"
        },
        "id": "_XfpL4Uye893",
        "outputId": "76be5ca7-857e-41ed-f87f-c7cba5e7a786"
      },
      "outputs": [
        {
          "name": "stdout",
          "output_type": "stream",
          "text": [
            "whats your namewwwww\n",
            "WWWWW\n"
          ]
        }
      ],
      "source": [
        "char=input(\"whats your name\")\n",
        "print(char.upper())"
      ]
    },
    {
      "cell_type": "code",
      "execution_count": null,
      "metadata": {
        "colab": {
          "background_save": true,
          "base_uri": "https://localhost:8080/"
        },
        "id": "3KRZKuBbiYuY",
        "outputId": "157d3403-15e3-42f8-e396-85056d059d84"
      },
      "outputs": [
        {
          "name": "stdout",
          "output_type": "stream",
          "text": [
            "1.Check Balance\n",
            "2.Withdrawal\n",
            "3.Deposit\n",
            "Exit\n",
            "Your remaining balance is ${balance}\n",
            "1.Check Balance\n",
            "2.Withdrawal\n",
            "3.Deposit\n",
            "Exit\n",
            "your new balance is ${balance}\n",
            "1.Check Balance\n",
            "2.Withdrawal\n",
            "3.Deposit\n",
            "Exit\n"
          ]
        }
      ],
      "source": [
        "# For atm machine\n",
        "correct_pin=\"1234\"\n",
        "balance=5000\n",
        "pin=input(\"Enter your pin number\")\n",
        "if pin==correct_pin:\n",
        "  while True:\n",
        "    print(\"1.Check Balance\")\n",
        "    print(\"2.Withdrawal\")\n",
        "    print(\"3.Deposit\")\n",
        "    print(\"Exit\")\n",
        "    choice=input(\"Select an option 1/2/3/4\")\n",
        "    if choice==\"1\":\n",
        "      print(f\"your new balance is ${balance}\")\n",
        "    elif choice==\"2\":\n",
        "        withdraw=float(input(\"Enter withdrawal amount\"))\n",
        "        if withdraw > balance:\n",
        "          print (f\"Insufficient balance\")\n",
        "        else:\n",
        "          balance -=withdraw\n",
        "        print(f\"your new balance is: ${balance}\")\n",
        "    elif choice==\"3\":\n",
        "      deposit=float(input(\"Enter deposit amoount\"))\n",
        "      balance  += deposit\n",
        "      print(f\"Your remaining balance is: ${balance}\")\n",
        "    elif choice==\"4\":\n",
        "      print(\"thanks for using this\")\n",
        "      break\n",
        "    else:\n",
        "      print(\"Invalid option\")\n",
        "else:\n",
        "  print(\"Access Denied\")"
      ]
    },
    {
      "cell_type": "code",
      "execution_count": null,
      "metadata": {
        "colab": {
          "background_save": true,
          "base_uri": "https://localhost:8080/"
        },
        "id": "mpeJBuUk7J4L",
        "outputId": "d3e57568-5d25-4a22-d152-38dfada0bd82"
      },
      "outputs": [
        {
          "name": "stdout",
          "output_type": "stream",
          "text": [
            "\n",
            "ATM Menu:\n",
            "1. Check Balance\n",
            "2. Deposit Money\n",
            "3. Withdraw Money\n",
            "4. Exit\n",
            "Deposit successful. New balance: $5500.0\n",
            "\n",
            "ATM Menu:\n",
            "1. Check Balance\n",
            "2. Deposit Money\n",
            "3. Withdraw Money\n",
            "4. Exit\n"
          ]
        }
      ],
      "source": [
        "correct_pin = \"1234\"\n",
        "balance = 5000\n",
        "\n",
        "# Ask user for PIN\n",
        "pin = input(\"Enter your PIN: \")\n",
        "\n",
        "# Check if the PIN is correct\n",
        "if pin == correct_pin:\n",
        "    while True:\n",
        "        print(\"\\nATM Menu:\")\n",
        "        print(\"1. Check Balance\")\n",
        "        print(\"2. Deposit Money\")\n",
        "        print(\"3. Withdraw Money\")\n",
        "        print(\"4. Exit\")\n",
        "\n",
        "        choice = input(\"Select an option (1/2/3/4): \")\n",
        "\n",
        "        if choice == '1':\n",
        "            print(f\"Your balance is: ${balance}\")\n",
        "        elif choice == '2':\n",
        "            deposit = float(input(\"Enter amount to deposit: $\"))\n",
        "            balance += deposit\n",
        "            print(f\"Deposit successful. New balance: ${balance}\")\n",
        "        elif choice == '3':\n",
        "            withdrawal = float(input(\"Enter amount to withdraw: $\"))\n",
        "            if withdrawal > balance:\n",
        "                print(\"Insufficient balance.\")\n",
        "            else:\n",
        "                balance -= withdrawal\n",
        "                print(f\"Withdrawal successful. New balance: ${balance}\")\n",
        "        elif choice == '4':\n",
        "            print(\"Thank you for using the ATM. Goodbye!\")\n",
        "            break\n",
        "        else:\n",
        "            print(\"Invalid option. Please try again.\")\n",
        "else:\n",
        "    print(\"Incorrect PIN. Access denied.\")\n"
      ]
    },
    {
      "cell_type": "code",
      "execution_count": null,
      "metadata": {
        "id": "Fjw2V_z-CWHF"
      },
      "outputs": [],
      "source": []
    }
  ],
  "metadata": {
    "colab": {
      "provenance": [],
      "authorship_tag": "ABX9TyN9vVwigKYdu3/v8LWzQjIF",
      "include_colab_link": true
    },
    "kernelspec": {
      "display_name": "Python 3",
      "name": "python3"
    },
    "language_info": {
      "name": "python"
    }
  },
  "nbformat": 4,
  "nbformat_minor": 0
}